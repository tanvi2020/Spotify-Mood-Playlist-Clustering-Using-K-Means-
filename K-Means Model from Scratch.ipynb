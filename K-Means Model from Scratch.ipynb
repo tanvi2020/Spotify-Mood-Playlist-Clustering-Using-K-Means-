{
 "cells": [
  {
   "cell_type": "markdown",
   "id": "c762600c",
   "metadata": {},
   "source": [
    "# What is K-means ?\n",
    "It’s an unsupervised algorithm that groups data into k clusters\n",
    "\n",
    "## Steps:\n",
    "\n",
    "First we have to decide the number of K Clusters to use using the Elbow Method. \n",
    "The Elbow Method helps us figure out the best number of clusters to use.\n",
    "We run K-Means with different values of k and plot how the total distance between points and their centroids (called inertia) changes.As k increases, the distances drop — but at some point, they stop improving much.\n",
    "That turning point or elbow point, is where we pick the ideal number of clusters\n",
    "\n",
    "- We pick k random points as centroids or centers of clusters (mood playlist will be the centriod and all data points are the songs ) \n",
    "- Then we assign every other data point to the nearest Centroid by calculating the Eucledian Distance \n",
    "- Then Recompute centroids as the average of all assigned points\n",
    "- Repeat steps 2–3 until convergence (centroids stop moving)"
   ]
  },
  {
   "cell_type": "code",
   "execution_count": 51,
   "id": "063e9e23",
   "metadata": {},
   "outputs": [],
   "source": [
    "import numpy as np # for mathematical operations\n",
    "import pandas as pd # for data manipulation\n",
    "import matplotlib.pyplot as plt # for visualization"
   ]
  },
  {
   "cell_type": "code",
   "execution_count": 52,
   "id": "2a121d69",
   "metadata": {},
   "outputs": [
    {
     "data": {
      "text/html": [
       "<div>\n",
       "<style scoped>\n",
       "    .dataframe tbody tr th:only-of-type {\n",
       "        vertical-align: middle;\n",
       "    }\n",
       "\n",
       "    .dataframe tbody tr th {\n",
       "        vertical-align: top;\n",
       "    }\n",
       "\n",
       "    .dataframe thead th {\n",
       "        text-align: right;\n",
       "    }\n",
       "</style>\n",
       "<table border=\"1\" class=\"dataframe\">\n",
       "  <thead>\n",
       "    <tr style=\"text-align: right;\">\n",
       "      <th></th>\n",
       "      <th>danceability</th>\n",
       "      <th>energy</th>\n",
       "      <th>loudness</th>\n",
       "      <th>speechiness</th>\n",
       "      <th>acousticness</th>\n",
       "      <th>instrumentalness</th>\n",
       "      <th>liveness</th>\n",
       "      <th>valence</th>\n",
       "      <th>tempo</th>\n",
       "      <th>duration_ms</th>\n",
       "    </tr>\n",
       "  </thead>\n",
       "  <tbody>\n",
       "    <tr>\n",
       "      <th>0</th>\n",
       "      <td>-0.890935</td>\n",
       "      <td>1.286908</td>\n",
       "      <td>1.290703</td>\n",
       "      <td>-0.367970</td>\n",
       "      <td>0.683376</td>\n",
       "      <td>-0.489819</td>\n",
       "      <td>0.660661</td>\n",
       "      <td>1.380744</td>\n",
       "      <td>1.595607</td>\n",
       "      <td>-1.141368</td>\n",
       "    </tr>\n",
       "    <tr>\n",
       "      <th>1</th>\n",
       "      <td>0.191994</td>\n",
       "      <td>0.630249</td>\n",
       "      <td>0.668683</td>\n",
       "      <td>-0.183082</td>\n",
       "      <td>-0.345467</td>\n",
       "      <td>-0.489819</td>\n",
       "      <td>-0.322835</td>\n",
       "      <td>1.388435</td>\n",
       "      <td>1.823253</td>\n",
       "      <td>-0.821867</td>\n",
       "    </tr>\n",
       "    <tr>\n",
       "      <th>2</th>\n",
       "      <td>0.585296</td>\n",
       "      <td>-1.669954</td>\n",
       "      <td>-0.718402</td>\n",
       "      <td>-0.455832</td>\n",
       "      <td>1.644570</td>\n",
       "      <td>-0.489819</td>\n",
       "      <td>-0.564927</td>\n",
       "      <td>-0.334212</td>\n",
       "      <td>-0.588326</td>\n",
       "      <td>-0.545298</td>\n",
       "    </tr>\n",
       "    <tr>\n",
       "      <th>3</th>\n",
       "      <td>-1.693703</td>\n",
       "      <td>-0.929789</td>\n",
       "      <td>-0.434817</td>\n",
       "      <td>-0.438044</td>\n",
       "      <td>0.942701</td>\n",
       "      <td>-0.489819</td>\n",
       "      <td>-0.587623</td>\n",
       "      <td>-0.876384</td>\n",
       "      <td>1.750597</td>\n",
       "      <td>-0.695295</td>\n",
       "    </tr>\n",
       "    <tr>\n",
       "      <th>4</th>\n",
       "      <td>-1.203422</td>\n",
       "      <td>-1.313157</td>\n",
       "      <td>-1.930601</td>\n",
       "      <td>-0.405163</td>\n",
       "      <td>1.638932</td>\n",
       "      <td>-0.083566</td>\n",
       "      <td>-0.065613</td>\n",
       "      <td>-0.249618</td>\n",
       "      <td>0.741433</td>\n",
       "      <td>-1.282184</td>\n",
       "    </tr>\n",
       "  </tbody>\n",
       "</table>\n",
       "</div>"
      ],
      "text/plain": [
       "   danceability    energy  loudness  speechiness  acousticness  \\\n",
       "0     -0.890935  1.286908  1.290703    -0.367970      0.683376   \n",
       "1      0.191994  0.630249  0.668683    -0.183082     -0.345467   \n",
       "2      0.585296 -1.669954 -0.718402    -0.455832      1.644570   \n",
       "3     -1.693703 -0.929789 -0.434817    -0.438044      0.942701   \n",
       "4     -1.203422 -1.313157 -1.930601    -0.405163      1.638932   \n",
       "\n",
       "   instrumentalness  liveness   valence     tempo  duration_ms  \n",
       "0         -0.489819  0.660661  1.380744  1.595607    -1.141368  \n",
       "1         -0.489819 -0.322835  1.388435  1.823253    -0.821867  \n",
       "2         -0.489819 -0.564927 -0.334212 -0.588326    -0.545298  \n",
       "3         -0.489819 -0.587623 -0.876384  1.750597    -0.695295  \n",
       "4         -0.083566 -0.065613 -0.249618  0.741433    -1.282184  "
      ]
     },
     "execution_count": 52,
     "metadata": {},
     "output_type": "execute_result"
    }
   ],
   "source": [
    "# Loading the data\n",
    "scaled_df=pd.read_csv(r\"C:\\Users\\Tanvi\\Desktop\\Datasets\\spotify_scaled_features1.csv\")\n",
    "scaled_df.head()"
   ]
  },
  {
   "cell_type": "markdown",
   "id": "6081a133",
   "metadata": {},
   "source": [
    "***Converting the data to numpy array because it will be easy for performing mathematical calculations like calculating the distance in K-means***"
   ]
  },
  {
   "cell_type": "code",
   "execution_count": 53,
   "id": "db894aef",
   "metadata": {},
   "outputs": [],
   "source": [
    "X=scaled_df.values"
   ]
  },
  {
   "cell_type": "code",
   "execution_count": 54,
   "id": "ba95a39c",
   "metadata": {},
   "outputs": [
    {
     "data": {
      "text/plain": [
       "array([[-0.89093479,  1.28690794,  1.29070344, ...,  1.38074423,\n",
       "         1.5956073 , -1.14136792],\n",
       "       [ 0.19199369,  0.6302493 ,  0.66868254, ...,  1.38843461,\n",
       "         1.82325339, -0.82186742],\n",
       "       [ 0.58529607, -1.66995381, -0.7184024 , ..., -0.33421214,\n",
       "        -0.5883258 , -0.54529771],\n",
       "       ...,\n",
       "       [-0.20130869, -0.57678797,  0.21471231, ...,  1.37689903,\n",
       "        -1.08520529, -0.57310266],\n",
       "       [ 1.02708778,  0.50499071,  0.40560321, ...,  0.13105629,\n",
       "        -0.57075233, -0.10661512],\n",
       "       [ 1.09712793, -0.38320652,  0.47712477, ...,  0.09260435,\n",
       "        -0.12199762,  0.73909427]])"
      ]
     },
     "execution_count": 54,
     "metadata": {},
     "output_type": "execute_result"
    }
   ],
   "source": [
    "X"
   ]
  },
  {
   "cell_type": "code",
   "execution_count": 55,
   "id": "67a5a00a",
   "metadata": {},
   "outputs": [
    {
     "data": {
      "text/plain": [
       "(232725, 10)"
      ]
     },
     "execution_count": 55,
     "metadata": {},
     "output_type": "execute_result"
    }
   ],
   "source": [
    "X.shape"
   ]
  },
  {
   "cell_type": "markdown",
   "id": "786ae49b",
   "metadata": {},
   "source": [
    "# Initializing k Centroids"
   ]
  },
  {
   "cell_type": "code",
   "execution_count": 56,
   "id": "2bab03c5",
   "metadata": {},
   "outputs": [],
   "source": [
    "def initialize_centroids(X,k): # This method will create k points as clusters from the X dataset \n",
    "    indices=np.random.choice(X.shape[0],k,replace=False) #x.shape[0] gives number of rows and replace=False means pick without replacement\n",
    "    centroids=X[indices]\n",
    "    return centroids \n"
   ]
  },
  {
   "cell_type": "markdown",
   "id": "a7f66884",
   "metadata": {},
   "source": [
    "# Assign every other data point to the nearest Centroid by calculating the Eucledian Distance"
   ]
  },
  {
   "cell_type": "markdown",
   "id": "fd67cfb5",
   "metadata": {},
   "source": [
    "When clustering songs, we need to figure out how close each song is to each cluster center (centroid).\n",
    "This is where np.linalg.norm() comes in — its like a digital measuring tape that calculates the distance between two points.\n",
    "In K-Means, we use this to find out Which centroid is closest to this song based on its features like energy, danceability etc.\n",
    "The np.linalg.norm() function helps us calculate the Euclidean distance, basically, the straight-line distance — between each song and each centroid."
   ]
  },
  {
   "cell_type": "code",
   "execution_count": 57,
   "id": "cc4092ae",
   "metadata": {},
   "outputs": [],
   "source": [
    "def assign_clusters(X,centroids):\n",
    "    distance=np.linalg.norm(X[:,np.newaxis]-centroids,axis=2)#We are subtracting each point in X from the centroid and this will\n",
    "    # result in a 3D array (n_points,n_centroids, n_features) , axis=2 For 3D arrays - across depth, for vector comparison\n",
    "     \n",
    "    # give the index of nearest centroid using np.argmin\n",
    "    cluster_labels=np.argmin(distance,axis=1)\n",
    "    return cluster_labels"
   ]
  },
  {
   "cell_type": "markdown",
   "id": "e13a6697",
   "metadata": {},
   "source": [
    "# Recalculate the centroids as the average of all assigned points\n",
    "\n",
    "Now each cluster is having a bunch of songs(points) inside it and we need to find a new centre or average of those songs"
   ]
  },
  {
   "cell_type": "code",
   "execution_count": 58,
   "id": "820d8f36",
   "metadata": {},
   "outputs": [],
   "source": [
    "def recalculate_centroids(X,cluster_labels,k):\n",
    "    new_centroids=[]\n",
    "    for i in range(k): # Going through each centroid one by one\n",
    "        cluster_points=X[cluster_labels==i] # Only those points who were assigned cluster i\n",
    "        # Now that we have all the points belonging to a cluster i we will take the new average for these points\n",
    "        # And again find new clusters \n",
    "        new_centroids.append(cluster_points.mean(axis=0)) # take average of all features like dancebility , energy etc\n",
    "    return np.array(new_centroids)\n",
    "    "
   ]
  },
  {
   "cell_type": "markdown",
   "id": "64c00358",
   "metadata": {},
   "source": [
    "# Now Repeat until the Centroids Stop Moving"
   ]
  },
  {
   "cell_type": "code",
   "execution_count": 59,
   "id": "7db97236",
   "metadata": {},
   "outputs": [],
   "source": [
    "def kmeans_algo(X,k,max_iters=100): # Inputs is X points , k clusters and max iterations as 100\n",
    "    # First initialize the centroids\n",
    "    centroids=initialize_centroids(X,k)\n",
    "    \n",
    "    for i in range(max_iters):\n",
    "        cluster_labels=assign_clusters(X,centroids) # Assign a centroid to each and every data point or song\n",
    "        new_centroids=recalculate_centroids(X,cluster_labels,k)\n",
    "        \n",
    "        if np.allclose(centroids,new_centroids): # allclose checks if the new centroids are same as the old ones\n",
    "            print(f'We have converged to the best solution after {i+1} iterations')\n",
    "            break\n",
    "            \n",
    "        # Else the old centroids will be replaced with the new ones\n",
    "        centroids= new_centroids\n",
    "    return cluster_labels,centroids"
   ]
  },
  {
   "cell_type": "markdown",
   "id": "8e7300f2",
   "metadata": {},
   "source": [
    "# Visualizing the Clusters using PCA\n",
    "\n",
    "This data has too many features, so it will be quite complicated to plot them directly . So I will be using PCA (Principle\n",
    "Component Analysis) just so that I understand the clusters better."
   ]
  },
  {
   "cell_type": "code",
   "execution_count": 60,
   "id": "e6b13f3d",
   "metadata": {},
   "outputs": [],
   "source": [
    "from sklearn.decomposition import PCA  # to reduce features to 2D\n",
    "import matplotlib.pyplot as plt\n",
    "\n",
    "pca=PCA(n_components=2) \n",
    "X_pca=pca.fit_transform(X)# Turn the multi feature data into just 2 features that best capture the pattern"
   ]
  },
  {
   "cell_type": "code",
   "execution_count": 61,
   "id": "b392d18e",
   "metadata": {},
   "outputs": [
    {
     "data": {
      "text/plain": [
       "(232725, 2)"
      ]
     },
     "execution_count": 61,
     "metadata": {},
     "output_type": "execute_result"
    }
   ],
   "source": [
    "X_pca.shape  "
   ]
  },
  {
   "cell_type": "markdown",
   "id": "1ce56125",
   "metadata": {},
   "source": [
    "Now X_pca has exactly 2 features "
   ]
  },
  {
   "cell_type": "code",
   "execution_count": 62,
   "id": "5ff3d868",
   "metadata": {},
   "outputs": [
    {
     "name": "stdout",
     "output_type": "stream",
     "text": [
      "We have converged to the best solution after 22 iterations\n"
     ]
    }
   ],
   "source": [
    "k = 3\n",
    "labels, centroids = kmeans_algo(X, k)"
   ]
  },
  {
   "cell_type": "code",
   "execution_count": 63,
   "id": "083d638c",
   "metadata": {},
   "outputs": [
    {
     "data": {
      "image/png": "[encoded data removed]",
      "text/plain": [
       "<Figure size 640x480 with 1 Axes>"
      ]
     },
     "metadata": {},
     "output_type": "display_data"
    }
   ],
   "source": [
    "plt.scatter(X_pca[:, 0], X_pca[:, 1], c=labels, cmap='viridis', s=50)\n",
    "plt.title(\"Spotify Mood Clusters (K-Means from Scratch)\")\n",
    "plt.xlabel(\"PCA 1\")\n",
    "plt.ylabel(\"PCA 2\")\n",
    "plt.grid(True)\n",
    "plt.show()"
   ]
  },
  {
   "cell_type": "markdown",
   "id": "c8ea012a",
   "metadata": {},
   "source": [
    "In the above scatter plot , K means has succesfully grouped all the similary songs together "
   ]
  },
  {
   "cell_type": "markdown",
   "id": "a0affe62",
   "metadata": {},
   "source": [
    "# Implementing the Elbow Curve"
   ]
  },
  {
   "cell_type": "code",
   "execution_count": 64,
   "id": "1023f46d",
   "metadata": {},
   "outputs": [
    {
     "data": {
      "image/png": "[encoded data removed]",
      "text/plain": [
       "<Figure size 640x480 with 1 Axes>"
      ]
     },
     "metadata": {},
     "output_type": "display_data"
    }
   ],
   "source": [
    "import numpy as np\n",
    "import matplotlib.pyplot as plt\n",
    "\n",
    "def calculate_inertia(X, centroids, cluster_labels):\n",
    "    # Calculate the inertia (sum of squared distances between points and centroids)\n",
    "    inertia = np.sum((X - centroids[cluster_labels])**2)\n",
    "    return inertia\n",
    "\n",
    "# Range of k values to test\n",
    "k_values = range(1, 11)\n",
    "\n",
    "inertia_values = []\n",
    "\n",
    "# Loop over different k values\n",
    "for k in k_values:\n",
    "    centroids = initialize_centroids(X, k)\n",
    "    cluster_labels = assign_clusters(X, centroids)\n",
    "    \n",
    "    # Calculate inertia for the current k value\n",
    "    inertia = calculate_inertia(X, centroids, cluster_labels)\n",
    "    inertia_values.append(inertia)\n",
    "\n",
    "# Plot the elbow curve\n",
    "plt.plot(k_values, inertia_values, marker='o')\n",
    "plt.xlabel('Number of Clusters (k)')\n",
    "plt.ylabel('Inertia (Sum of Squared Distances)')\n",
    "plt.title('Elbow Curve')\n",
    "plt.show()\n"
   ]
  },
  {
   "cell_type": "markdown",
   "id": "81aebef5",
   "metadata": {},
   "source": [
    "### In the above figure, k=3 seems to be the optimal number of clusters in this case, there is a sharp drop in inertia between k=1 and k=3, and after k=3, the rate of change slows down significantly. The elbow point generally indicates the most appropriate number of clusters to choose."
   ]
  },
  {
   "cell_type": "code",
   "execution_count": null,
   "id": "c640b84b",
   "metadata": {},
   "outputs": [],
   "source": []
  }
 ],
 "metadata": {
  "kernelspec": {
   "display_name": "Python 3 (ipykernel)",
   "language": "python",
   "name": "python3"
  },
  "language_info": {
   "codemirror_mode": {
    "name": "ipython",
    "version": 3
   },
   "file_extension": ".py",
   "mimetype": "text/x-python",
   "name": "python",
   "nbconvert_exporter": "python",
   "pygments_lexer": "ipython3",
   "version": "3.9.13"
  }
 },
 "nbformat": 4,
 "nbformat_minor": 5
}
